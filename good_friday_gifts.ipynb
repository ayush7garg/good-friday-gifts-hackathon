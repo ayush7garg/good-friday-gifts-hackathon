{
  "nbformat": 4,
  "nbformat_minor": 0,
  "metadata": {
    "colab": {
      "name": "good_friday_gifts.ipynb",
      "provenance": [],
      "authorship_tag": "ABX9TyNHDQT+H1XP2qykjGg20GkT",
      "include_colab_link": true
    },
    "kernelspec": {
      "name": "python3",
      "display_name": "Python 3"
    }
  },
  "cells": [
    {
      "cell_type": "markdown",
      "metadata": {
        "id": "view-in-github",
        "colab_type": "text"
      },
      "source": [
        "<a href=\"https://colab.research.google.com/github/ayush7garg/good-friday-gifts-hackathon/blob/master/good_friday_gifts.ipynb\" target=\"_parent\"><img src=\"https://colab.research.google.com/assets/colab-badge.svg\" alt=\"Open In Colab\"/></a>"
      ]
    },
    {
      "cell_type": "code",
      "metadata": {
        "id": "7fulYvg_OoEP",
        "colab_type": "code",
        "colab": {}
      },
      "source": [
        "#Importing Libraries\n",
        "import pandas as pd\n",
        "import numpy as np\n",
        "import io\n",
        "from google.colab import files"
      ],
      "execution_count": 0,
      "outputs": []
    },
    {
      "cell_type": "code",
      "metadata": {
        "id": "QDAWOyr5QmHf",
        "colab_type": "code",
        "outputId": "ac9817c9-605c-4c38-cedc-6465450ed0d9",
        "colab": {
          "resources": {
            "http://localhost:8080/nbextensions/google.colab/files.js": {
              "data": "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",
              "ok": true,
              "headers": [
                [
                  "content-type",
                  "application/javascript"
                ]
              ],
              "status": 200,
              "status_text": "OK"
            }
          },
          "base_uri": "https://localhost:8080/",
          "height": 77
        }
      },
      "source": [
        "uploaded = files.upload()"
      ],
      "execution_count": 0,
      "outputs": [
        {
          "output_type": "display_data",
          "data": {
            "text/html": [
              "\n",
              "     <input type=\"file\" id=\"files-66f58c17-ba84-4f38-b926-c582538c28aa\" name=\"files[]\" multiple disabled />\n",
              "     <output id=\"result-66f58c17-ba84-4f38-b926-c582538c28aa\">\n",
              "      Upload widget is only available when the cell has been executed in the\n",
              "      current browser session. Please rerun this cell to enable.\n",
              "      </output>\n",
              "      <script src=\"/nbextensions/google.colab/files.js\"></script> "
            ],
            "text/plain": [
              "<IPython.core.display.HTML object>"
            ]
          },
          "metadata": {
            "tags": []
          }
        },
        {
          "output_type": "stream",
          "text": [
            "Saving test.csv to test.csv\n"
          ],
          "name": "stdout"
        }
      ]
    },
    {
      "cell_type": "code",
      "metadata": {
        "id": "PW4Srp2NQybT",
        "colab_type": "code",
        "colab": {}
      },
      "source": [
        "df = pd.read_csv('train.csv')"
      ],
      "execution_count": 0,
      "outputs": []
    },
    {
      "cell_type": "code",
      "metadata": {
        "id": "knwQRAcJRsMV",
        "colab_type": "code",
        "outputId": "f0d60f37-47b4-4fcd-aec2-0d1f72b4791d",
        "colab": {
          "base_uri": "https://localhost:8080/",
          "height": 800
        }
      },
      "source": [
        "df.head(15)"
      ],
      "execution_count": 0,
      "outputs": [
        {
          "output_type": "execute_result",
          "data": {
            "text/html": [
              "<div>\n",
              "<style scoped>\n",
              "    .dataframe tbody tr th:only-of-type {\n",
              "        vertical-align: middle;\n",
              "    }\n",
              "\n",
              "    .dataframe tbody tr th {\n",
              "        vertical-align: top;\n",
              "    }\n",
              "\n",
              "    .dataframe thead th {\n",
              "        text-align: right;\n",
              "    }\n",
              "</style>\n",
              "<table border=\"1\" class=\"dataframe\">\n",
              "  <thead>\n",
              "    <tr style=\"text-align: right;\">\n",
              "      <th></th>\n",
              "      <th>gift_id</th>\n",
              "      <th>gift_type</th>\n",
              "      <th>gift_category</th>\n",
              "      <th>gift_cluster</th>\n",
              "      <th>instock_date</th>\n",
              "      <th>stock_update_date</th>\n",
              "      <th>lsg_1</th>\n",
              "      <th>lsg_2</th>\n",
              "      <th>lsg_3</th>\n",
              "      <th>lsg_4</th>\n",
              "      <th>lsg_5</th>\n",
              "      <th>lsg_6</th>\n",
              "      <th>uk_date1</th>\n",
              "      <th>uk_date2</th>\n",
              "      <th>is_discounted</th>\n",
              "      <th>volumes</th>\n",
              "      <th>price</th>\n",
              "    </tr>\n",
              "  </thead>\n",
              "  <tbody>\n",
              "    <tr>\n",
              "      <th>0</th>\n",
              "      <td>GF_11156</td>\n",
              "      <td>61</td>\n",
              "      <td>534</td>\n",
              "      <td>3942</td>\n",
              "      <td>2014-02-21 05:07:06.000</td>\n",
              "      <td>2016-11-09 15:49:51.000</td>\n",
              "      <td>3377</td>\n",
              "      <td>5221</td>\n",
              "      <td>504</td>\n",
              "      <td>1912</td>\n",
              "      <td>10</td>\n",
              "      <td>554</td>\n",
              "      <td>2014-02-24 08:07:06.000</td>\n",
              "      <td>2014-02-24 07:07:06.000</td>\n",
              "      <td>0</td>\n",
              "      <td>NaN</td>\n",
              "      <td>175.54</td>\n",
              "    </tr>\n",
              "    <tr>\n",
              "      <th>1</th>\n",
              "      <td>GF_11157</td>\n",
              "      <td>61</td>\n",
              "      <td>534</td>\n",
              "      <td>3942</td>\n",
              "      <td>2014-02-21 06:07:06.000</td>\n",
              "      <td>2016-11-11 13:49:51.000</td>\n",
              "      <td>3377</td>\n",
              "      <td>5221</td>\n",
              "      <td>504</td>\n",
              "      <td>1912</td>\n",
              "      <td>10</td>\n",
              "      <td>554</td>\n",
              "      <td>2014-02-22 07:07:06.000</td>\n",
              "      <td>2014-02-24 06:07:06.000</td>\n",
              "      <td>1</td>\n",
              "      <td>NaN</td>\n",
              "      <td>95.80</td>\n",
              "    </tr>\n",
              "    <tr>\n",
              "      <th>2</th>\n",
              "      <td>GF_15689</td>\n",
              "      <td>584</td>\n",
              "      <td>262</td>\n",
              "      <td>0</td>\n",
              "      <td>2014-02-21 09:30:21.000</td>\n",
              "      <td>2016-03-24 14:46:18.000</td>\n",
              "      <td>5290</td>\n",
              "      <td>1579</td>\n",
              "      <td>3203</td>\n",
              "      <td>1912</td>\n",
              "      <td>9</td>\n",
              "      <td>1578</td>\n",
              "      <td>2016-01-26 00:04:45.000</td>\n",
              "      <td>2016-03-18 02:00:00.000</td>\n",
              "      <td>1</td>\n",
              "      <td>NaN</td>\n",
              "      <td>107.35</td>\n",
              "    </tr>\n",
              "    <tr>\n",
              "      <th>3</th>\n",
              "      <td>GF_11155</td>\n",
              "      <td>61</td>\n",
              "      <td>534</td>\n",
              "      <td>3942</td>\n",
              "      <td>2014-02-22 05:07:06.000</td>\n",
              "      <td>2016-11-10 16:49:51.000</td>\n",
              "      <td>3377</td>\n",
              "      <td>5221</td>\n",
              "      <td>504</td>\n",
              "      <td>1912</td>\n",
              "      <td>10</td>\n",
              "      <td>554</td>\n",
              "      <td>2016-11-07 13:49:51.000</td>\n",
              "      <td>2016-11-06 04:00:00.000</td>\n",
              "      <td>0</td>\n",
              "      <td>NaN</td>\n",
              "      <td>172.90</td>\n",
              "    </tr>\n",
              "    <tr>\n",
              "      <th>4</th>\n",
              "      <td>GF_11158</td>\n",
              "      <td>61</td>\n",
              "      <td>534</td>\n",
              "      <td>3942</td>\n",
              "      <td>2014-02-22 07:07:06.000</td>\n",
              "      <td>2016-11-10 13:49:51.000</td>\n",
              "      <td>3377</td>\n",
              "      <td>5221</td>\n",
              "      <td>504</td>\n",
              "      <td>1912</td>\n",
              "      <td>9</td>\n",
              "      <td>554</td>\n",
              "      <td>2016-11-07 15:49:51.000</td>\n",
              "      <td>2016-11-06 01:00:00.000</td>\n",
              "      <td>1</td>\n",
              "      <td>NaN</td>\n",
              "      <td>77.72</td>\n",
              "    </tr>\n",
              "    <tr>\n",
              "      <th>5</th>\n",
              "      <td>GF_15686</td>\n",
              "      <td>584</td>\n",
              "      <td>262</td>\n",
              "      <td>0</td>\n",
              "      <td>2014-02-23 07:30:21.000</td>\n",
              "      <td>2016-03-23 15:46:18.000</td>\n",
              "      <td>5290</td>\n",
              "      <td>1579</td>\n",
              "      <td>3203</td>\n",
              "      <td>1912</td>\n",
              "      <td>9</td>\n",
              "      <td>1578</td>\n",
              "      <td>2014-02-25 07:30:21.000</td>\n",
              "      <td>2014-02-24 08:30:21.000</td>\n",
              "      <td>1</td>\n",
              "      <td>NaN</td>\n",
              "      <td>142.84</td>\n",
              "    </tr>\n",
              "    <tr>\n",
              "      <th>6</th>\n",
              "      <td>GF_15690</td>\n",
              "      <td>584</td>\n",
              "      <td>262</td>\n",
              "      <td>0</td>\n",
              "      <td>2014-02-23 10:30:21.000</td>\n",
              "      <td>2016-03-23 18:46:18.000</td>\n",
              "      <td>5290</td>\n",
              "      <td>1579</td>\n",
              "      <td>3203</td>\n",
              "      <td>1912</td>\n",
              "      <td>9</td>\n",
              "      <td>1578</td>\n",
              "      <td>2016-01-25 02:04:45.000</td>\n",
              "      <td>2016-03-16 02:00:00.000</td>\n",
              "      <td>1</td>\n",
              "      <td>NaN</td>\n",
              "      <td>78.71</td>\n",
              "    </tr>\n",
              "    <tr>\n",
              "      <th>7</th>\n",
              "      <td>GF_15685</td>\n",
              "      <td>584</td>\n",
              "      <td>262</td>\n",
              "      <td>0</td>\n",
              "      <td>2014-02-24 10:30:21.000</td>\n",
              "      <td>2016-03-24 17:46:18.000</td>\n",
              "      <td>5290</td>\n",
              "      <td>1579</td>\n",
              "      <td>3203</td>\n",
              "      <td>1912</td>\n",
              "      <td>9</td>\n",
              "      <td>1578</td>\n",
              "      <td>2016-01-22 03:04:45.000</td>\n",
              "      <td>2016-03-17 03:00:00.000</td>\n",
              "      <td>0</td>\n",
              "      <td>NaN</td>\n",
              "      <td>166.81</td>\n",
              "    </tr>\n",
              "    <tr>\n",
              "      <th>8</th>\n",
              "      <td>GF_11159</td>\n",
              "      <td>61</td>\n",
              "      <td>534</td>\n",
              "      <td>3942</td>\n",
              "      <td>2014-02-25 07:07:06.000</td>\n",
              "      <td>2016-11-10 14:49:51.000</td>\n",
              "      <td>3377</td>\n",
              "      <td>5221</td>\n",
              "      <td>504</td>\n",
              "      <td>1912</td>\n",
              "      <td>10</td>\n",
              "      <td>554</td>\n",
              "      <td>2016-11-07 16:49:51.000</td>\n",
              "      <td>2015-04-08 12:48:27.025</td>\n",
              "      <td>0</td>\n",
              "      <td>NaN</td>\n",
              "      <td>72.72</td>\n",
              "    </tr>\n",
              "    <tr>\n",
              "      <th>9</th>\n",
              "      <td>GF_15688</td>\n",
              "      <td>584</td>\n",
              "      <td>262</td>\n",
              "      <td>0</td>\n",
              "      <td>2014-02-25 08:30:21.000</td>\n",
              "      <td>2016-03-24 16:46:18.000</td>\n",
              "      <td>5290</td>\n",
              "      <td>1579</td>\n",
              "      <td>3203</td>\n",
              "      <td>1912</td>\n",
              "      <td>9</td>\n",
              "      <td>1578</td>\n",
              "      <td>2016-01-23 03:04:45.000</td>\n",
              "      <td>2016-03-11 04:00:00.000</td>\n",
              "      <td>1</td>\n",
              "      <td>NaN</td>\n",
              "      <td>107.12</td>\n",
              "    </tr>\n",
              "    <tr>\n",
              "      <th>10</th>\n",
              "      <td>GF_15687</td>\n",
              "      <td>584</td>\n",
              "      <td>262</td>\n",
              "      <td>0</td>\n",
              "      <td>2014-02-25 10:30:21.000</td>\n",
              "      <td>2016-03-22 18:46:18.000</td>\n",
              "      <td>5290</td>\n",
              "      <td>1579</td>\n",
              "      <td>3203</td>\n",
              "      <td>1912</td>\n",
              "      <td>9</td>\n",
              "      <td>1578</td>\n",
              "      <td>2016-01-23 23:04:45.000</td>\n",
              "      <td>2016-03-20 04:00:00.000</td>\n",
              "      <td>1</td>\n",
              "      <td>NaN</td>\n",
              "      <td>108.22</td>\n",
              "    </tr>\n",
              "    <tr>\n",
              "      <th>11</th>\n",
              "      <td>GF_19007</td>\n",
              "      <td>1136</td>\n",
              "      <td>890</td>\n",
              "      <td>0</td>\n",
              "      <td>2014-08-31 04:40:59.000</td>\n",
              "      <td>2016-08-01 17:52:10.000</td>\n",
              "      <td>8143</td>\n",
              "      <td>3350</td>\n",
              "      <td>6404</td>\n",
              "      <td>1912</td>\n",
              "      <td>9</td>\n",
              "      <td>1428</td>\n",
              "      <td>2014-09-02 03:40:59.000</td>\n",
              "      <td>2014-08-28 01:21:25.696</td>\n",
              "      <td>0</td>\n",
              "      <td>NaN</td>\n",
              "      <td>123.55</td>\n",
              "    </tr>\n",
              "    <tr>\n",
              "      <th>12</th>\n",
              "      <td>GF_519</td>\n",
              "      <td>168</td>\n",
              "      <td>403</td>\n",
              "      <td>1846</td>\n",
              "      <td>2014-10-15 22:59:24.000</td>\n",
              "      <td>2017-04-03 15:40:33.000</td>\n",
              "      <td>3799</td>\n",
              "      <td>3358</td>\n",
              "      <td>1230</td>\n",
              "      <td>51</td>\n",
              "      <td>9</td>\n",
              "      <td>327</td>\n",
              "      <td>2017-03-31 12:40:33.000</td>\n",
              "      <td>2017-03-26 12:25:37.484</td>\n",
              "      <td>0</td>\n",
              "      <td>25.0</td>\n",
              "      <td>176.69</td>\n",
              "    </tr>\n",
              "    <tr>\n",
              "      <th>13</th>\n",
              "      <td>GF_522</td>\n",
              "      <td>168</td>\n",
              "      <td>403</td>\n",
              "      <td>1846</td>\n",
              "      <td>2014-10-16 21:59:24.000</td>\n",
              "      <td>2017-04-02 16:40:33.000</td>\n",
              "      <td>3799</td>\n",
              "      <td>3358</td>\n",
              "      <td>1230</td>\n",
              "      <td>51</td>\n",
              "      <td>9</td>\n",
              "      <td>327</td>\n",
              "      <td>2017-03-06 17:31:38.000</td>\n",
              "      <td>2017-02-14 19:48:35.300</td>\n",
              "      <td>0</td>\n",
              "      <td>26.0</td>\n",
              "      <td>95.49</td>\n",
              "    </tr>\n",
              "    <tr>\n",
              "      <th>14</th>\n",
              "      <td>GF_524</td>\n",
              "      <td>168</td>\n",
              "      <td>403</td>\n",
              "      <td>1846</td>\n",
              "      <td>2014-10-18 23:59:24.000</td>\n",
              "      <td>2017-04-02 15:40:33.000</td>\n",
              "      <td>3799</td>\n",
              "      <td>3358</td>\n",
              "      <td>1230</td>\n",
              "      <td>51</td>\n",
              "      <td>9</td>\n",
              "      <td>327</td>\n",
              "      <td>2014-11-18 13:43:12.000</td>\n",
              "      <td>2014-11-15 15:03:20.063</td>\n",
              "      <td>0</td>\n",
              "      <td>26.0</td>\n",
              "      <td>171.63</td>\n",
              "    </tr>\n",
              "  </tbody>\n",
              "</table>\n",
              "</div>"
            ],
            "text/plain": [
              "     gift_id  gift_type  gift_category  ...  is_discounted volumes   price\n",
              "0   GF_11156         61            534  ...              0     NaN  175.54\n",
              "1   GF_11157         61            534  ...              1     NaN   95.80\n",
              "2   GF_15689        584            262  ...              1     NaN  107.35\n",
              "3   GF_11155         61            534  ...              0     NaN  172.90\n",
              "4   GF_11158         61            534  ...              1     NaN   77.72\n",
              "5   GF_15686        584            262  ...              1     NaN  142.84\n",
              "6   GF_15690        584            262  ...              1     NaN   78.71\n",
              "7   GF_15685        584            262  ...              0     NaN  166.81\n",
              "8   GF_11159         61            534  ...              0     NaN   72.72\n",
              "9   GF_15688        584            262  ...              1     NaN  107.12\n",
              "10  GF_15687        584            262  ...              1     NaN  108.22\n",
              "11  GF_19007       1136            890  ...              0     NaN  123.55\n",
              "12    GF_519        168            403  ...              0    25.0  176.69\n",
              "13    GF_522        168            403  ...              0    26.0   95.49\n",
              "14    GF_524        168            403  ...              0    26.0  171.63\n",
              "\n",
              "[15 rows x 17 columns]"
            ]
          },
          "metadata": {
            "tags": []
          },
          "execution_count": 9
        }
      ]
    },
    {
      "cell_type": "code",
      "metadata": {
        "id": "X-sK0hPFSj1q",
        "colab_type": "code",
        "colab": {}
      },
      "source": [
        "df['volumes'] = df['volumes'].fillna(0)"
      ],
      "execution_count": 0,
      "outputs": []
    },
    {
      "cell_type": "code",
      "metadata": {
        "id": "Dc7ZF0aVwhc1",
        "colab_type": "code",
        "outputId": "dda40a2b-ca93-4db8-d16f-eec322c31e37",
        "colab": {
          "base_uri": "https://localhost:8080/",
          "height": 313
        }
      },
      "source": [
        "df.head(5)"
      ],
      "execution_count": 0,
      "outputs": [
        {
          "output_type": "execute_result",
          "data": {
            "text/html": [
              "<div>\n",
              "<style scoped>\n",
              "    .dataframe tbody tr th:only-of-type {\n",
              "        vertical-align: middle;\n",
              "    }\n",
              "\n",
              "    .dataframe tbody tr th {\n",
              "        vertical-align: top;\n",
              "    }\n",
              "\n",
              "    .dataframe thead th {\n",
              "        text-align: right;\n",
              "    }\n",
              "</style>\n",
              "<table border=\"1\" class=\"dataframe\">\n",
              "  <thead>\n",
              "    <tr style=\"text-align: right;\">\n",
              "      <th></th>\n",
              "      <th>gift_id</th>\n",
              "      <th>gift_type</th>\n",
              "      <th>gift_category</th>\n",
              "      <th>gift_cluster</th>\n",
              "      <th>instock_date</th>\n",
              "      <th>stock_update_date</th>\n",
              "      <th>lsg_1</th>\n",
              "      <th>lsg_2</th>\n",
              "      <th>lsg_3</th>\n",
              "      <th>lsg_4</th>\n",
              "      <th>lsg_5</th>\n",
              "      <th>lsg_6</th>\n",
              "      <th>uk_date1</th>\n",
              "      <th>uk_date2</th>\n",
              "      <th>is_discounted</th>\n",
              "      <th>volumes</th>\n",
              "      <th>price</th>\n",
              "    </tr>\n",
              "  </thead>\n",
              "  <tbody>\n",
              "    <tr>\n",
              "      <th>0</th>\n",
              "      <td>GF_11156</td>\n",
              "      <td>61</td>\n",
              "      <td>534</td>\n",
              "      <td>3942</td>\n",
              "      <td>2014-02-21 05:07:06.000</td>\n",
              "      <td>2016-11-09 15:49:51.000</td>\n",
              "      <td>3377</td>\n",
              "      <td>5221</td>\n",
              "      <td>504</td>\n",
              "      <td>1912</td>\n",
              "      <td>10</td>\n",
              "      <td>554</td>\n",
              "      <td>2014-02-24 08:07:06.000</td>\n",
              "      <td>2014-02-24 07:07:06.000</td>\n",
              "      <td>0</td>\n",
              "      <td>0.0</td>\n",
              "      <td>175.54</td>\n",
              "    </tr>\n",
              "    <tr>\n",
              "      <th>1</th>\n",
              "      <td>GF_11157</td>\n",
              "      <td>61</td>\n",
              "      <td>534</td>\n",
              "      <td>3942</td>\n",
              "      <td>2014-02-21 06:07:06.000</td>\n",
              "      <td>2016-11-11 13:49:51.000</td>\n",
              "      <td>3377</td>\n",
              "      <td>5221</td>\n",
              "      <td>504</td>\n",
              "      <td>1912</td>\n",
              "      <td>10</td>\n",
              "      <td>554</td>\n",
              "      <td>2014-02-22 07:07:06.000</td>\n",
              "      <td>2014-02-24 06:07:06.000</td>\n",
              "      <td>1</td>\n",
              "      <td>0.0</td>\n",
              "      <td>95.80</td>\n",
              "    </tr>\n",
              "    <tr>\n",
              "      <th>2</th>\n",
              "      <td>GF_15689</td>\n",
              "      <td>584</td>\n",
              "      <td>262</td>\n",
              "      <td>0</td>\n",
              "      <td>2014-02-21 09:30:21.000</td>\n",
              "      <td>2016-03-24 14:46:18.000</td>\n",
              "      <td>5290</td>\n",
              "      <td>1579</td>\n",
              "      <td>3203</td>\n",
              "      <td>1912</td>\n",
              "      <td>9</td>\n",
              "      <td>1578</td>\n",
              "      <td>2016-01-26 00:04:45.000</td>\n",
              "      <td>2016-03-18 02:00:00.000</td>\n",
              "      <td>1</td>\n",
              "      <td>0.0</td>\n",
              "      <td>107.35</td>\n",
              "    </tr>\n",
              "    <tr>\n",
              "      <th>3</th>\n",
              "      <td>GF_11155</td>\n",
              "      <td>61</td>\n",
              "      <td>534</td>\n",
              "      <td>3942</td>\n",
              "      <td>2014-02-22 05:07:06.000</td>\n",
              "      <td>2016-11-10 16:49:51.000</td>\n",
              "      <td>3377</td>\n",
              "      <td>5221</td>\n",
              "      <td>504</td>\n",
              "      <td>1912</td>\n",
              "      <td>10</td>\n",
              "      <td>554</td>\n",
              "      <td>2016-11-07 13:49:51.000</td>\n",
              "      <td>2016-11-06 04:00:00.000</td>\n",
              "      <td>0</td>\n",
              "      <td>0.0</td>\n",
              "      <td>172.90</td>\n",
              "    </tr>\n",
              "    <tr>\n",
              "      <th>4</th>\n",
              "      <td>GF_11158</td>\n",
              "      <td>61</td>\n",
              "      <td>534</td>\n",
              "      <td>3942</td>\n",
              "      <td>2014-02-22 07:07:06.000</td>\n",
              "      <td>2016-11-10 13:49:51.000</td>\n",
              "      <td>3377</td>\n",
              "      <td>5221</td>\n",
              "      <td>504</td>\n",
              "      <td>1912</td>\n",
              "      <td>9</td>\n",
              "      <td>554</td>\n",
              "      <td>2016-11-07 15:49:51.000</td>\n",
              "      <td>2016-11-06 01:00:00.000</td>\n",
              "      <td>1</td>\n",
              "      <td>0.0</td>\n",
              "      <td>77.72</td>\n",
              "    </tr>\n",
              "  </tbody>\n",
              "</table>\n",
              "</div>"
            ],
            "text/plain": [
              "    gift_id  gift_type  gift_category  ...  is_discounted volumes   price\n",
              "0  GF_11156         61            534  ...              0     0.0  175.54\n",
              "1  GF_11157         61            534  ...              1     0.0   95.80\n",
              "2  GF_15689        584            262  ...              1     0.0  107.35\n",
              "3  GF_11155         61            534  ...              0     0.0  172.90\n",
              "4  GF_11158         61            534  ...              1     0.0   77.72\n",
              "\n",
              "[5 rows x 17 columns]"
            ]
          },
          "metadata": {
            "tags": []
          },
          "execution_count": 11
        }
      ]
    },
    {
      "cell_type": "code",
      "metadata": {
        "id": "E_3eojZ4wjpV",
        "colab_type": "code",
        "outputId": "3c864e16-4992-477d-eb47-85a3b227cc5a",
        "colab": {
          "base_uri": "https://localhost:8080/",
          "height": 35
        }
      },
      "source": [
        "len(df.gift_type.unique())"
      ],
      "execution_count": 0,
      "outputs": [
        {
          "output_type": "execute_result",
          "data": {
            "text/plain": [
              "1237"
            ]
          },
          "metadata": {
            "tags": []
          },
          "execution_count": 21
        }
      ]
    },
    {
      "cell_type": "code",
      "metadata": {
        "id": "SJZjTs-Qx4km",
        "colab_type": "code",
        "colab": {}
      },
      "source": [
        "x_train = df.drop(\"price\",axis=1)\n",
        "y_train = df[\"price\"]"
      ],
      "execution_count": 0,
      "outputs": []
    },
    {
      "cell_type": "code",
      "metadata": {
        "id": "At-ZHUrX3FfA",
        "colab_type": "code",
        "colab": {}
      },
      "source": [
        "cor = df.corr()\n",
        "cor_target = abs(cor[\"price\"])"
      ],
      "execution_count": 0,
      "outputs": []
    },
    {
      "cell_type": "code",
      "metadata": {
        "id": "7lmKa1aUS_TX",
        "colab_type": "code",
        "colab": {
          "base_uri": "https://localhost:8080/",
          "height": 256
        },
        "outputId": "d0cdef35-ebf7-4020-b3c0-e825504d33c2"
      },
      "source": [
        "cor_target"
      ],
      "execution_count": 9,
      "outputs": [
        {
          "output_type": "execute_result",
          "data": {
            "text/plain": [
              "gift_type        0.137145\n",
              "gift_category    0.286888\n",
              "gift_cluster     0.282881\n",
              "lsg_1            0.147712\n",
              "lsg_2            0.185142\n",
              "lsg_3            0.006178\n",
              "lsg_4            0.222104\n",
              "lsg_5            0.525773\n",
              "lsg_6            0.019769\n",
              "is_discounted    0.157463\n",
              "volumes          0.132591\n",
              "price            1.000000\n",
              "Name: price, dtype: float64"
            ]
          },
          "metadata": {
            "tags": []
          },
          "execution_count": 9
        }
      ]
    },
    {
      "cell_type": "code",
      "metadata": {
        "id": "MU5VmEUWTBPY",
        "colab_type": "code",
        "colab": {
          "base_uri": "https://localhost:8080/",
          "height": 446
        },
        "outputId": "45b384e5-31b1-400c-a907-cf8e1d8d7cf4"
      },
      "source": [
        "cor"
      ],
      "execution_count": 10,
      "outputs": [
        {
          "output_type": "execute_result",
          "data": {
            "text/html": [
              "<div>\n",
              "<style scoped>\n",
              "    .dataframe tbody tr th:only-of-type {\n",
              "        vertical-align: middle;\n",
              "    }\n",
              "\n",
              "    .dataframe tbody tr th {\n",
              "        vertical-align: top;\n",
              "    }\n",
              "\n",
              "    .dataframe thead th {\n",
              "        text-align: right;\n",
              "    }\n",
              "</style>\n",
              "<table border=\"1\" class=\"dataframe\">\n",
              "  <thead>\n",
              "    <tr style=\"text-align: right;\">\n",
              "      <th></th>\n",
              "      <th>gift_type</th>\n",
              "      <th>gift_category</th>\n",
              "      <th>gift_cluster</th>\n",
              "      <th>lsg_1</th>\n",
              "      <th>lsg_2</th>\n",
              "      <th>lsg_3</th>\n",
              "      <th>lsg_4</th>\n",
              "      <th>lsg_5</th>\n",
              "      <th>lsg_6</th>\n",
              "      <th>is_discounted</th>\n",
              "      <th>volumes</th>\n",
              "      <th>price</th>\n",
              "    </tr>\n",
              "  </thead>\n",
              "  <tbody>\n",
              "    <tr>\n",
              "      <th>gift_type</th>\n",
              "      <td>1.000000</td>\n",
              "      <td>0.075328</td>\n",
              "      <td>-0.123263</td>\n",
              "      <td>0.369368</td>\n",
              "      <td>-0.063898</td>\n",
              "      <td>0.534393</td>\n",
              "      <td>0.055803</td>\n",
              "      <td>-0.073652</td>\n",
              "      <td>0.062589</td>\n",
              "      <td>-0.027933</td>\n",
              "      <td>-0.100975</td>\n",
              "      <td>0.137145</td>\n",
              "    </tr>\n",
              "    <tr>\n",
              "      <th>gift_category</th>\n",
              "      <td>0.075328</td>\n",
              "      <td>1.000000</td>\n",
              "      <td>-0.138297</td>\n",
              "      <td>0.003494</td>\n",
              "      <td>-0.020970</td>\n",
              "      <td>-0.069802</td>\n",
              "      <td>0.053803</td>\n",
              "      <td>-0.339733</td>\n",
              "      <td>0.085429</td>\n",
              "      <td>0.011843</td>\n",
              "      <td>-0.232432</td>\n",
              "      <td>0.286888</td>\n",
              "    </tr>\n",
              "    <tr>\n",
              "      <th>gift_cluster</th>\n",
              "      <td>-0.123263</td>\n",
              "      <td>-0.138297</td>\n",
              "      <td>1.000000</td>\n",
              "      <td>-0.106383</td>\n",
              "      <td>0.109072</td>\n",
              "      <td>0.067285</td>\n",
              "      <td>0.068613</td>\n",
              "      <td>0.146533</td>\n",
              "      <td>0.025014</td>\n",
              "      <td>0.063864</td>\n",
              "      <td>0.233788</td>\n",
              "      <td>-0.282881</td>\n",
              "    </tr>\n",
              "    <tr>\n",
              "      <th>lsg_1</th>\n",
              "      <td>0.369368</td>\n",
              "      <td>0.003494</td>\n",
              "      <td>-0.106383</td>\n",
              "      <td>1.000000</td>\n",
              "      <td>-0.162152</td>\n",
              "      <td>0.524086</td>\n",
              "      <td>-0.126679</td>\n",
              "      <td>-0.125548</td>\n",
              "      <td>-0.033314</td>\n",
              "      <td>-0.193836</td>\n",
              "      <td>0.335478</td>\n",
              "      <td>0.147712</td>\n",
              "    </tr>\n",
              "    <tr>\n",
              "      <th>lsg_2</th>\n",
              "      <td>-0.063898</td>\n",
              "      <td>-0.020970</td>\n",
              "      <td>0.109072</td>\n",
              "      <td>-0.162152</td>\n",
              "      <td>1.000000</td>\n",
              "      <td>-0.037239</td>\n",
              "      <td>0.022979</td>\n",
              "      <td>0.040390</td>\n",
              "      <td>-0.039292</td>\n",
              "      <td>0.035532</td>\n",
              "      <td>0.035085</td>\n",
              "      <td>-0.185142</td>\n",
              "    </tr>\n",
              "    <tr>\n",
              "      <th>lsg_3</th>\n",
              "      <td>0.534393</td>\n",
              "      <td>-0.069802</td>\n",
              "      <td>0.067285</td>\n",
              "      <td>0.524086</td>\n",
              "      <td>-0.037239</td>\n",
              "      <td>1.000000</td>\n",
              "      <td>0.080235</td>\n",
              "      <td>-0.002776</td>\n",
              "      <td>0.067858</td>\n",
              "      <td>-0.120458</td>\n",
              "      <td>0.303429</td>\n",
              "      <td>0.006178</td>\n",
              "    </tr>\n",
              "    <tr>\n",
              "      <th>lsg_4</th>\n",
              "      <td>0.055803</td>\n",
              "      <td>0.053803</td>\n",
              "      <td>0.068613</td>\n",
              "      <td>-0.126679</td>\n",
              "      <td>0.022979</td>\n",
              "      <td>0.080235</td>\n",
              "      <td>1.000000</td>\n",
              "      <td>0.272718</td>\n",
              "      <td>0.371960</td>\n",
              "      <td>0.201302</td>\n",
              "      <td>-0.321000</td>\n",
              "      <td>-0.222104</td>\n",
              "    </tr>\n",
              "    <tr>\n",
              "      <th>lsg_5</th>\n",
              "      <td>-0.073652</td>\n",
              "      <td>-0.339733</td>\n",
              "      <td>0.146533</td>\n",
              "      <td>-0.125548</td>\n",
              "      <td>0.040390</td>\n",
              "      <td>-0.002776</td>\n",
              "      <td>0.272718</td>\n",
              "      <td>1.000000</td>\n",
              "      <td>0.163077</td>\n",
              "      <td>0.094139</td>\n",
              "      <td>0.054567</td>\n",
              "      <td>-0.525773</td>\n",
              "    </tr>\n",
              "    <tr>\n",
              "      <th>lsg_6</th>\n",
              "      <td>0.062589</td>\n",
              "      <td>0.085429</td>\n",
              "      <td>0.025014</td>\n",
              "      <td>-0.033314</td>\n",
              "      <td>-0.039292</td>\n",
              "      <td>0.067858</td>\n",
              "      <td>0.371960</td>\n",
              "      <td>0.163077</td>\n",
              "      <td>1.000000</td>\n",
              "      <td>0.122089</td>\n",
              "      <td>-0.161461</td>\n",
              "      <td>-0.019769</td>\n",
              "    </tr>\n",
              "    <tr>\n",
              "      <th>is_discounted</th>\n",
              "      <td>-0.027933</td>\n",
              "      <td>0.011843</td>\n",
              "      <td>0.063864</td>\n",
              "      <td>-0.193836</td>\n",
              "      <td>0.035532</td>\n",
              "      <td>-0.120458</td>\n",
              "      <td>0.201302</td>\n",
              "      <td>0.094139</td>\n",
              "      <td>0.122089</td>\n",
              "      <td>1.000000</td>\n",
              "      <td>-0.262461</td>\n",
              "      <td>-0.157463</td>\n",
              "    </tr>\n",
              "    <tr>\n",
              "      <th>volumes</th>\n",
              "      <td>-0.100975</td>\n",
              "      <td>-0.232432</td>\n",
              "      <td>0.233788</td>\n",
              "      <td>0.335478</td>\n",
              "      <td>0.035085</td>\n",
              "      <td>0.303429</td>\n",
              "      <td>-0.321000</td>\n",
              "      <td>0.054567</td>\n",
              "      <td>-0.161461</td>\n",
              "      <td>-0.262461</td>\n",
              "      <td>1.000000</td>\n",
              "      <td>-0.132591</td>\n",
              "    </tr>\n",
              "    <tr>\n",
              "      <th>price</th>\n",
              "      <td>0.137145</td>\n",
              "      <td>0.286888</td>\n",
              "      <td>-0.282881</td>\n",
              "      <td>0.147712</td>\n",
              "      <td>-0.185142</td>\n",
              "      <td>0.006178</td>\n",
              "      <td>-0.222104</td>\n",
              "      <td>-0.525773</td>\n",
              "      <td>-0.019769</td>\n",
              "      <td>-0.157463</td>\n",
              "      <td>-0.132591</td>\n",
              "      <td>1.000000</td>\n",
              "    </tr>\n",
              "  </tbody>\n",
              "</table>\n",
              "</div>"
            ],
            "text/plain": [
              "               gift_type  gift_category  ...   volumes     price\n",
              "gift_type       1.000000       0.075328  ... -0.100975  0.137145\n",
              "gift_category   0.075328       1.000000  ... -0.232432  0.286888\n",
              "gift_cluster   -0.123263      -0.138297  ...  0.233788 -0.282881\n",
              "lsg_1           0.369368       0.003494  ...  0.335478  0.147712\n",
              "lsg_2          -0.063898      -0.020970  ...  0.035085 -0.185142\n",
              "lsg_3           0.534393      -0.069802  ...  0.303429  0.006178\n",
              "lsg_4           0.055803       0.053803  ... -0.321000 -0.222104\n",
              "lsg_5          -0.073652      -0.339733  ...  0.054567 -0.525773\n",
              "lsg_6           0.062589       0.085429  ... -0.161461 -0.019769\n",
              "is_discounted  -0.027933       0.011843  ... -0.262461 -0.157463\n",
              "volumes        -0.100975      -0.232432  ...  1.000000 -0.132591\n",
              "price           0.137145       0.286888  ... -0.132591  1.000000\n",
              "\n",
              "[12 rows x 12 columns]"
            ]
          },
          "metadata": {
            "tags": []
          },
          "execution_count": 10
        }
      ]
    },
    {
      "cell_type": "code",
      "metadata": {
        "id": "PooKFeO9TJrn",
        "colab_type": "code",
        "colab": {
          "base_uri": "https://localhost:8080/",
          "height": 72
        },
        "outputId": "99731fce-f94a-44a7-f351-618d7c920b39"
      },
      "source": [
        "cor.columns"
      ],
      "execution_count": 12,
      "outputs": [
        {
          "output_type": "execute_result",
          "data": {
            "text/plain": [
              "Index(['gift_type', 'gift_category', 'gift_cluster', 'lsg_1', 'lsg_2', 'lsg_3',\n",
              "       'lsg_4', 'lsg_5', 'lsg_6', 'is_discounted', 'volumes', 'price'],\n",
              "      dtype='object')"
            ]
          },
          "metadata": {
            "tags": []
          },
          "execution_count": 12
        }
      ]
    },
    {
      "cell_type": "code",
      "metadata": {
        "id": "iM-PmJ5-Tedu",
        "colab_type": "code",
        "colab": {
          "base_uri": "https://localhost:8080/",
          "height": 35
        },
        "outputId": "12ed2353-f8fc-43a4-e4cb-f11ecd108e6a"
      },
      "source": [
        "type(cor_target)"
      ],
      "execution_count": 13,
      "outputs": [
        {
          "output_type": "execute_result",
          "data": {
            "text/plain": [
              "pandas.core.series.Series"
            ]
          },
          "metadata": {
            "tags": []
          },
          "execution_count": 13
        }
      ]
    },
    {
      "cell_type": "code",
      "metadata": {
        "id": "g3cerqzeTrSm",
        "colab_type": "code",
        "colab": {
          "base_uri": "https://localhost:8080/",
          "height": 237
        },
        "outputId": "f26ea63d-10c3-4033-def3-a69234f6b849"
      },
      "source": [
        "list(cor_target.index)"
      ],
      "execution_count": 19,
      "outputs": [
        {
          "output_type": "execute_result",
          "data": {
            "text/plain": [
              "['gift_type',\n",
              " 'gift_category',\n",
              " 'gift_cluster',\n",
              " 'lsg_1',\n",
              " 'lsg_2',\n",
              " 'lsg_3',\n",
              " 'lsg_4',\n",
              " 'lsg_5',\n",
              " 'lsg_6',\n",
              " 'is_discounted',\n",
              " 'volumes',\n",
              " 'price']"
            ]
          },
          "metadata": {
            "tags": []
          },
          "execution_count": 19
        }
      ]
    },
    {
      "cell_type": "code",
      "metadata": {
        "id": "40yNNhYCTt4T",
        "colab_type": "code",
        "colab": {}
      },
      "source": [
        "cor_target = pd.DataFrame(cor_target)"
      ],
      "execution_count": 0,
      "outputs": []
    },
    {
      "cell_type": "code",
      "metadata": {
        "id": "rCAwJV-JT7FL",
        "colab_type": "code",
        "colab": {
          "base_uri": "https://localhost:8080/",
          "height": 206
        },
        "outputId": "e99ff864-5d6d-46f4-b981-41ae16f96e92"
      },
      "source": [
        "cor_target.head(5)"
      ],
      "execution_count": 16,
      "outputs": [
        {
          "output_type": "execute_result",
          "data": {
            "text/html": [
              "<div>\n",
              "<style scoped>\n",
              "    .dataframe tbody tr th:only-of-type {\n",
              "        vertical-align: middle;\n",
              "    }\n",
              "\n",
              "    .dataframe tbody tr th {\n",
              "        vertical-align: top;\n",
              "    }\n",
              "\n",
              "    .dataframe thead th {\n",
              "        text-align: right;\n",
              "    }\n",
              "</style>\n",
              "<table border=\"1\" class=\"dataframe\">\n",
              "  <thead>\n",
              "    <tr style=\"text-align: right;\">\n",
              "      <th></th>\n",
              "      <th>price</th>\n",
              "    </tr>\n",
              "  </thead>\n",
              "  <tbody>\n",
              "    <tr>\n",
              "      <th>gift_type</th>\n",
              "      <td>0.137145</td>\n",
              "    </tr>\n",
              "    <tr>\n",
              "      <th>gift_category</th>\n",
              "      <td>0.286888</td>\n",
              "    </tr>\n",
              "    <tr>\n",
              "      <th>gift_cluster</th>\n",
              "      <td>0.282881</td>\n",
              "    </tr>\n",
              "    <tr>\n",
              "      <th>lsg_1</th>\n",
              "      <td>0.147712</td>\n",
              "    </tr>\n",
              "    <tr>\n",
              "      <th>lsg_2</th>\n",
              "      <td>0.185142</td>\n",
              "    </tr>\n",
              "  </tbody>\n",
              "</table>\n",
              "</div>"
            ],
            "text/plain": [
              "                  price\n",
              "gift_type      0.137145\n",
              "gift_category  0.286888\n",
              "gift_cluster   0.282881\n",
              "lsg_1          0.147712\n",
              "lsg_2          0.185142"
            ]
          },
          "metadata": {
            "tags": []
          },
          "execution_count": 16
        }
      ]
    },
    {
      "cell_type": "code",
      "metadata": {
        "id": "HD-5c5lSUx3t",
        "colab_type": "code",
        "colab": {}
      },
      "source": [
        "cor_target = cor_target.T"
      ],
      "execution_count": 0,
      "outputs": []
    },
    {
      "cell_type": "code",
      "metadata": {
        "id": "QCzgLWvZVCsE",
        "colab_type": "code",
        "colab": {}
      },
      "source": [
        "to_drop = [i for i in list(cor_target.columns) if cor_target[i]['price']<0.1]"
      ],
      "execution_count": 0,
      "outputs": []
    },
    {
      "cell_type": "code",
      "metadata": {
        "id": "UC7j7VrpVQpS",
        "colab_type": "code",
        "colab": {
          "base_uri": "https://localhost:8080/",
          "height": 35
        },
        "outputId": "6e240698-1df6-49e7-badf-8987d20bc46d"
      },
      "source": [
        "to_drop"
      ],
      "execution_count": 34,
      "outputs": [
        {
          "output_type": "execute_result",
          "data": {
            "text/plain": [
              "['lsg_3', 'lsg_6']"
            ]
          },
          "metadata": {
            "tags": []
          },
          "execution_count": 34
        }
      ]
    },
    {
      "cell_type": "code",
      "metadata": {
        "id": "zeyb4pbIWRAA",
        "colab_type": "code",
        "colab": {}
      },
      "source": [
        "x_train = x_train.drop(columns=to_drop)"
      ],
      "execution_count": 0,
      "outputs": []
    },
    {
      "cell_type": "code",
      "metadata": {
        "id": "AeVG9ZB0Wnlz",
        "colab_type": "code",
        "colab": {}
      },
      "source": [
        ""
      ],
      "execution_count": 0,
      "outputs": []
    }
  ]
}